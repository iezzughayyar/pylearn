{
 "cells": [
  {
   "cell_type": "code",
   "execution_count": 2,
   "metadata": {},
   "outputs": [],
   "source": [
    "def if_prime(num):\n",
    "    \n",
    "    number_of_divisibles = 0\n",
    "    \n",
    "    for i in range (2,num): \n",
    "        if num % i == 0:\n",
    "            number_of_divisibles +=1 \n",
    "    \n",
    "    if number_of_divisibles == 0 :\n",
    "        return True \n",
    "    else:\n",
    "        return False"
   ]
  },
  {
   "cell_type": "code",
   "execution_count": 3,
   "metadata": {},
   "outputs": [],
   "source": [
    "def prime_upto(x):\n",
    "    listo = []\n",
    "    for i in range (3,x+1,2):\n",
    "        if if_prime(i):\n",
    "            listo.append(i)\n",
    "    return [2] + listo"
   ]
  },
  {
   "cell_type": "code",
   "execution_count": 4,
   "metadata": {},
   "outputs": [],
   "source": [
    "def pf():\n",
    "    try:\n",
    "        result = []\n",
    "        n = int(input ('which number you like factorizing?'))\n",
    "        primes = prime_upto(n) # list of primes up to the entered number\n",
    "  \n",
    "        while True:\n",
    "            for i in primes:\n",
    "                if n % i == 0:\n",
    "                    result.append(i)\n",
    "                    n = n / i\n",
    "            if n == 1:\n",
    "                break       \n",
    "                    \n",
    "                    \n",
    "        print (result) \n",
    "        pf()\n",
    "        \n",
    "    except ValueError: \n",
    "        print ('please enter a digit')\n",
    "        pf()  "
   ]
  },
  {
   "cell_type": "code",
   "execution_count": null,
   "metadata": {},
   "outputs": [
    {
     "name": "stdout",
     "output_type": "stream",
     "text": [
      "which number you like factorizing?4\n",
      "[2, 2]\n",
      "which number you like factorizing?6\n",
      "[2, 3]\n",
      "which number you like factorizing?100\n",
      "[2, 5, 2, 5]\n"
     ]
    }
   ],
   "source": [
    "pf()"
   ]
  },
  {
   "cell_type": "code",
   "execution_count": null,
   "metadata": {},
   "outputs": [],
   "source": []
  }
 ],
 "metadata": {
  "kernelspec": {
   "display_name": "Python 3",
   "language": "python",
   "name": "python3"
  },
  "language_info": {
   "codemirror_mode": {
    "name": "ipython",
    "version": 3
   },
   "file_extension": ".py",
   "mimetype": "text/x-python",
   "name": "python",
   "nbconvert_exporter": "python",
   "pygments_lexer": "ipython3",
   "version": "3.7.6"
  }
 },
 "nbformat": 4,
 "nbformat_minor": 4
}
