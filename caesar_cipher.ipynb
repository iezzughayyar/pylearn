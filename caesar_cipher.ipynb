{
 "cells": [
  {
   "cell_type": "code",
   "execution_count": 8,
   "metadata": {},
   "outputs": [
    {
     "data": {
      "text/plain": [
       "'abcdefghijklmnopqrstuvwxyz'"
      ]
     },
     "execution_count": 8,
     "metadata": {},
     "output_type": "execute_result"
    }
   ],
   "source": [
    "import string \n",
    "string.ascii_lowercase"
   ]
  },
  {
   "cell_type": "code",
   "execution_count": 79,
   "metadata": {},
   "outputs": [],
   "source": [
    "text1=\"abcdef\""
   ]
  },
  {
   "cell_type": "code",
   "execution_count": 80,
   "metadata": {},
   "outputs": [],
   "source": [
    "def encoding(text, key):\n",
    "    listo = list (text)\n",
    "    list_lower = list(string.ascii_lowercase)\n",
    "    list_upper = list(string.ascii_uppercase)\n",
    "    \n",
    "    for i in range (len (listo)):\n",
    "        if listo[i] in string.ascii_lowercase:\n",
    "            index_of_letter_in_alphabet = list_lower.index(listo[i])\n",
    "            listo[i] = list_lower[index_of_letter_in_alphabet + key]\n",
    "            \n",
    "        elif listo[i] in string.ascii_uppercase:\n",
    "            index_of_letter_in_alphabet = list_upper.index(listo[i])\n",
    "            listo[i] = list_upper[index_of_letter_in_alphabet + key]\n",
    "    return ''.join(listo)"
   ]
  },
  {
   "cell_type": "code",
   "execution_count": 96,
   "metadata": {},
   "outputs": [
    {
     "data": {
      "text/plain": [
       "'ghijkl'"
      ]
     },
     "execution_count": 96,
     "metadata": {},
     "output_type": "execute_result"
    }
   ],
   "source": [
    "encoding (text1,6)"
   ]
  },
  {
   "cell_type": "code",
   "execution_count": 92,
   "metadata": {},
   "outputs": [],
   "source": [
    "def decoding(text,key):\n",
    "    listo = list (text)\n",
    "    list_lower = list(string.ascii_lowercase)\n",
    "    list_upper = list(string.ascii_uppercase)\n",
    "    \n",
    "    for i in range (len (listo)):\n",
    "        if listo[i] in string.ascii_lowercase:\n",
    "            index_of_letter_in_alphabet = list_lower.index(listo[i])\n",
    "            listo[i] = list_lower[index_of_letter_in_alphabet - key]\n",
    "            \n",
    "        elif listo[i] in string.ascii_uppercase:\n",
    "            index_of_letter_in_alphabet = list_upper.index(listo[i])\n",
    "            listo[i] = list_upper[index_of_letter_in_alphabet - key]\n",
    "    return ''.join(listo)"
   ]
  },
  {
   "cell_type": "code",
   "execution_count": 93,
   "metadata": {},
   "outputs": [
    {
     "data": {
      "text/plain": [
       "'abcdef'"
      ]
     },
     "execution_count": 93,
     "metadata": {},
     "output_type": "execute_result"
    }
   ],
   "source": [
    "decoding(encoding (text1,6),6)"
   ]
  },
  {
   "cell_type": "code",
   "execution_count": null,
   "metadata": {},
   "outputs": [],
   "source": []
  }
 ],
 "metadata": {
  "kernelspec": {
   "display_name": "Python 3",
   "language": "python",
   "name": "python3"
  },
  "language_info": {
   "codemirror_mode": {
    "name": "ipython",
    "version": 3
   },
   "file_extension": ".py",
   "mimetype": "text/x-python",
   "name": "python",
   "nbconvert_exporter": "python",
   "pygments_lexer": "ipython3",
   "version": "3.7.6"
  }
 },
 "nbformat": 4,
 "nbformat_minor": 4
}
