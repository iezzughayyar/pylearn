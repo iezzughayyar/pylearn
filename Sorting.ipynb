{
 "cells": [
  {
   "cell_type": "markdown",
   "metadata": {},
   "source": [
    " Implement two types of sorting algorithms: Merge sort and bubble sort."
   ]
  },
  {
   "cell_type": "code",
   "execution_count": 1,
   "metadata": {},
   "outputs": [
    {
     "name": "stdout",
     "output_type": "stream",
     "text": [
      "[2, 8, 1, 7, 9, 3, 6, 4, 5, 10]\n"
     ]
    }
   ],
   "source": [
    "import random \n",
    "import timeit\n",
    "from functools import reduce\n",
    "list1 = [1,2,3,4,5,6,7,8,9,10]\n",
    "random.shuffle(list1)\n",
    "print (list1)"
   ]
  },
  {
   "cell_type": "code",
   "execution_count": 2,
   "metadata": {},
   "outputs": [],
   "source": [
    "#bubble sort\n",
    "def ascending_sort(listo):\n",
    "    \n",
    "    lis = listo.copy() #making sure that the original list will not be modified by running the func\n",
    "    initial_length = len (lis)\n",
    "    sorted_list=[]\n",
    "    \n",
    "    while len(sorted_list) != initial_length: #repeating the process untill the new sorted list is completed\n",
    "        highest = reduce (max, lis) #take the highest value of the list\n",
    "        index_of_highest = lis.index(highest)\n",
    "        lis.pop(index_of_highest)\n",
    "        sorted_list = [highest] + sorted_list #adding the highest value to the new list\n",
    "        \n",
    "    return sorted_list"
   ]
  },
  {
   "cell_type": "code",
   "execution_count": 11,
   "metadata": {},
   "outputs": [
    {
     "name": "stdout",
     "output_type": "stream",
     "text": [
      "[1, 2, 3, 4, 5, 6, 7, 8, 9, 10]\n",
      "time needed to exexute:  3.851500002838293e-05\n"
     ]
    }
   ],
   "source": [
    "print (ascending_sort(list1))\n",
    "print (\"time needed to exexute: \", timeit.timeit(lambda : ascending_sort(list1), number=1)) # WHY LAMBDA? (callable)"
   ]
  },
  {
   "cell_type": "code",
   "execution_count": 15,
   "metadata": {},
   "outputs": [],
   "source": [
    "#Merge sort\n",
    "def ascending_sort(listo):\n",
    "    pass"
   ]
  },
  {
   "cell_type": "code",
   "execution_count": 16,
   "metadata": {},
   "outputs": [
    {
     "name": "stdout",
     "output_type": "stream",
     "text": [
      "time needed to exexute:  3.893999974025064e-06\n"
     ]
    }
   ],
   "source": [
    "'''\n",
    "WHY BOTHER !! in-built sorted() is quicker either way\n",
    "'''\n",
    "print (\"time needed to exexute: \", timeit.timeit(lambda : sorted (list1), number=1))"
   ]
  },
  {
   "cell_type": "code",
   "execution_count": null,
   "metadata": {},
   "outputs": [],
   "source": []
  }
 ],
 "metadata": {
  "kernelspec": {
   "display_name": "Python 3",
   "language": "python",
   "name": "python3"
  },
  "language_info": {
   "codemirror_mode": {
    "name": "ipython",
    "version": 3
   },
   "file_extension": ".py",
   "mimetype": "text/x-python",
   "name": "python",
   "nbconvert_exporter": "python",
   "pygments_lexer": "ipython3",
   "version": "3.7.6"
  }
 },
 "nbformat": 4,
 "nbformat_minor": 4
}
